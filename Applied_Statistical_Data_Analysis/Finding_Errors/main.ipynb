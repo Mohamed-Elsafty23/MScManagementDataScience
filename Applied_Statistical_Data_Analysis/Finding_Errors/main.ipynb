{
 "cells": [
  {
   "cell_type": "code",
   "execution_count": 410,
   "metadata": {},
   "outputs": [],
   "source": [
    "import pandas as pd\n",
    "import numpy as np"
   ]
  },
  {
   "cell_type": "code",
   "execution_count": 411,
   "metadata": {},
   "outputs": [],
   "source": [
    "data_df = pd.read_csv('Group_2_marco_statistics.txt', sep='\\t')"
   ]
  },
  {
   "cell_type": "markdown",
   "metadata": {},
   "source": [
    "## Quick look at this unruly dataset (get ready, it’s a mess!)\n"
   ]
  },
  {
   "cell_type": "code",
   "execution_count": 412,
   "metadata": {},
   "outputs": [
    {
     "name": "stdout",
     "output_type": "stream",
     "text": [
      "<class 'pandas.core.frame.DataFrame'>\n",
      "RangeIndex: 3603 entries, 0 to 3602\n",
      "Data columns (total 13 columns):\n",
      " #   Column           Non-Null Count  Dtype \n",
      "---  ------           --------------  ----- \n",
      " 0   Area Code        3592 non-null   object\n",
      " 1   Area Code (M49)  3594 non-null   object\n",
      " 2   Area             3600 non-null   object\n",
      " 3   Item Code        3594 non-null   object\n",
      " 4   Item             3602 non-null   object\n",
      " 5   Element Code     3592 non-null   object\n",
      " 6   Element          3598 non-null   object\n",
      " 7   Unit             3485 non-null   object\n",
      " 8   Y2019            3246 non-null   object\n",
      " 9   Y2020            3227 non-null   object\n",
      " 10  Y2021            3014 non-null   object\n",
      " 11  Y2022            2441 non-null   object\n",
      " 12  Y2023            1531 non-null   object\n",
      "dtypes: object(13)\n",
      "memory usage: 366.1+ KB\n"
     ]
    }
   ],
   "source": [
    "data_df.info()"
   ]
  },
  {
   "cell_type": "code",
   "execution_count": 413,
   "metadata": {},
   "outputs": [
    {
     "data": {
      "text/html": [
       "<div>\n",
       "<style scoped>\n",
       "    .dataframe tbody tr th:only-of-type {\n",
       "        vertical-align: middle;\n",
       "    }\n",
       "\n",
       "    .dataframe tbody tr th {\n",
       "        vertical-align: top;\n",
       "    }\n",
       "\n",
       "    .dataframe thead th {\n",
       "        text-align: right;\n",
       "    }\n",
       "</style>\n",
       "<table border=\"1\" class=\"dataframe\">\n",
       "  <thead>\n",
       "    <tr style=\"text-align: right;\">\n",
       "      <th></th>\n",
       "      <th>Area Code</th>\n",
       "      <th>Area Code (M49)</th>\n",
       "      <th>Area</th>\n",
       "      <th>Item Code</th>\n",
       "      <th>Item</th>\n",
       "      <th>Element Code</th>\n",
       "      <th>Element</th>\n",
       "      <th>Unit</th>\n",
       "      <th>Y2019</th>\n",
       "      <th>Y2020</th>\n",
       "      <th>Y2021</th>\n",
       "      <th>Y2022</th>\n",
       "      <th>Y2023</th>\n",
       "    </tr>\n",
       "  </thead>\n",
       "  <tbody>\n",
       "    <tr>\n",
       "      <th>0</th>\n",
       "      <td>3</td>\n",
       "      <td>'008</td>\n",
       "      <td>Albania</td>\n",
       "      <td>22008</td>\n",
       "      <td>Gross Domestic Product</td>\n",
       "      <td>6224</td>\n",
       "      <td>Value Standard Local Currency</td>\n",
       "      <td>million SLC</td>\n",
       "      <td>1691903.429768</td>\n",
       "      <td>1647431.1</td>\n",
       "      <td>1856172.3</td>\n",
       "      <td>2138339.2</td>\n",
       "      <td>2257544.743428</td>\n",
       "    </tr>\n",
       "    <tr>\n",
       "      <th>1</th>\n",
       "      <td>3</td>\n",
       "      <td>'008</td>\n",
       "      <td>Albania</td>\n",
       "      <td>22008</td>\n",
       "      <td>Gross Domestic Product</td>\n",
       "      <td>6110</td>\n",
       "      <td>Value US$</td>\n",
       "      <td>million USD</td>\n",
       "      <td>15401.82608</td>\n",
       "      <td>15162.734468</td>\n",
       "      <td>17930.56704</td>\n",
       "      <td>18916.380686</td>\n",
       "      <td>22430.768974</td>\n",
       "    </tr>\n",
       "    <tr>\n",
       "      <th>2</th>\n",
       "      <td>3</td>\n",
       "      <td>'008</td>\n",
       "      <td>Albania</td>\n",
       "      <td>22008</td>\n",
       "      <td>Gross Domestic Product</td>\n",
       "      <td>6119</td>\n",
       "      <td>Value US$ per capita</td>\n",
       "      <td>USD</td>\n",
       "      <td>5359.239078</td>\n",
       "      <td>5288.989573</td>\n",
       "      <td>6281.046775</td>\n",
       "      <td>6655.258391</td>\n",
       "      <td>7919.241676</td>\n",
       "    </tr>\n",
       "    <tr>\n",
       "      <th>3</th>\n",
       "      <td>3</td>\n",
       "      <td>'008</td>\n",
       "      <td>Albania</td>\n",
       "      <td>22008</td>\n",
       "      <td>Gross Domestic Product</td>\n",
       "      <td>6225</td>\n",
       "      <td>Value Standard Local Currency, 2015 prices</td>\n",
       "      <td>million SLC</td>\n",
       "      <td>1633423.912176</td>\n",
       "      <td>1576554.211752</td>\n",
       "      <td>1720197.512823</td>\n",
       "      <td>1803737.613446</td>\n",
       "      <td>1844321.709748</td>\n",
       "    </tr>\n",
       "    <tr>\n",
       "      <th>4</th>\n",
       "      <td>3</td>\n",
       "      <td>'008</td>\n",
       "      <td>Albania</td>\n",
       "      <td>22008</td>\n",
       "      <td>Gross Domestic Product</td>\n",
       "      <td>6185</td>\n",
       "      <td>Value US$ per capita, 2015 prices</td>\n",
       "      <td>USD</td>\n",
       "      <td>4512.262019</td>\n",
       "      <td>4365.847635</td>\n",
       "      <td>4783.885801</td>\n",
       "      <td>5038.076094</td>\n",
       "      <td>5169.405465</td>\n",
       "    </tr>\n",
       "  </tbody>\n",
       "</table>\n",
       "</div>"
      ],
      "text/plain": [
       "  Area Code Area Code (M49)     Area Item Code                    Item  \\\n",
       "0         3            '008  Albania     22008  Gross Domestic Product   \n",
       "1         3            '008  Albania     22008  Gross Domestic Product   \n",
       "2         3            '008  Albania     22008  Gross Domestic Product   \n",
       "3         3            '008  Albania     22008  Gross Domestic Product   \n",
       "4         3            '008  Albania     22008  Gross Domestic Product   \n",
       "\n",
       "  Element Code                                     Element         Unit  \\\n",
       "0         6224               Value Standard Local Currency  million SLC   \n",
       "1         6110                                   Value US$  million USD   \n",
       "2         6119                        Value US$ per capita          USD   \n",
       "3         6225  Value Standard Local Currency, 2015 prices  million SLC   \n",
       "4         6185           Value US$ per capita, 2015 prices          USD   \n",
       "\n",
       "            Y2019           Y2020           Y2021           Y2022  \\\n",
       "0  1691903.429768       1647431.1       1856172.3       2138339.2   \n",
       "1     15401.82608    15162.734468     17930.56704    18916.380686   \n",
       "2     5359.239078     5288.989573     6281.046775     6655.258391   \n",
       "3  1633423.912176  1576554.211752  1720197.512823  1803737.613446   \n",
       "4     4512.262019     4365.847635     4783.885801     5038.076094   \n",
       "\n",
       "            Y2023  \n",
       "0  2257544.743428  \n",
       "1    22430.768974  \n",
       "2     7919.241676  \n",
       "3  1844321.709748  \n",
       "4     5169.405465  "
      ]
     },
     "execution_count": 413,
     "metadata": {},
     "output_type": "execute_result"
    }
   ],
   "source": [
    "data_df.head()"
   ]
  },
  {
   "cell_type": "markdown",
   "metadata": {},
   "source": [
    "#### 1. Replacing ‘n/a’ and ‘9999999’ popping up where they shouldn’t. Let’s turn them into NaN."
   ]
  },
  {
   "cell_type": "code",
   "execution_count": 414,
   "metadata": {},
   "outputs": [
    {
     "data": {
      "text/plain": [
       "Area Code          5\n",
       "Area Code (M49)    0\n",
       "Area               0\n",
       "Item Code          1\n",
       "Item               0\n",
       "Element Code       1\n",
       "Element            0\n",
       "Unit               0\n",
       "Y2019              3\n",
       "Y2020              3\n",
       "Y2021              3\n",
       "Y2022              0\n",
       "Y2023              2\n",
       "dtype: int64"
      ]
     },
     "execution_count": 414,
     "metadata": {},
     "output_type": "execute_result"
    }
   ],
   "source": [
    "data_df.isin(['n/a', '9999999']).sum()"
   ]
  },
  {
   "cell_type": "code",
   "execution_count": 415,
   "metadata": {},
   "outputs": [],
   "source": [
    "data_df.replace(['n/a', '9999999'], np.nan, inplace=True)"
   ]
  },
  {
   "cell_type": "markdown",
   "metadata": {},
   "source": [
    "#### 2. Drop Rows that have NAN values greter than 4."
   ]
  },
  {
   "cell_type": "code",
   "execution_count": 416,
   "metadata": {},
   "outputs": [
    {
     "data": {
      "text/plain": [
       "np.int64(340)"
      ]
     },
     "execution_count": 416,
     "metadata": {},
     "output_type": "execute_result"
    }
   ],
   "source": [
    "(data_df.isnull().sum(axis=1) > 4).sum()\n"
   ]
  },
  {
   "cell_type": "code",
   "execution_count": 417,
   "metadata": {},
   "outputs": [
    {
     "data": {
      "text/plain": [
       "np.int64(0)"
      ]
     },
     "execution_count": 417,
     "metadata": {},
     "output_type": "execute_result"
    }
   ],
   "source": [
    "data_df = data_df.dropna(thresh=len(data_df.columns) - 4)\n",
    "(data_df.isnull().sum(axis=1) > 4).sum()"
   ]
  },
  {
   "cell_type": "markdown",
   "metadata": {},
   "source": [
    "#### 3. Making Numbers Actually... Numbers"
   ]
  },
  {
   "cell_type": "code",
   "execution_count": 418,
   "metadata": {},
   "outputs": [
    {
     "name": "stdout",
     "output_type": "stream",
     "text": [
      "Area Code (M49)    object\n",
      "Item Code          object\n",
      "Element Code       object\n",
      "Y2019              object\n",
      "Y2020              object\n",
      "Y2021              object\n",
      "Y2022              object\n",
      "Y2023              object\n",
      "dtype: object\n"
     ]
    }
   ],
   "source": [
    "columns_names = ['Area Code (M49)', 'Item Code', 'Element Code', 'Y2019', 'Y2020', 'Y2021', 'Y2022', 'Y2023']\n",
    "print(data_df[columns_names].dtypes)"
   ]
  },
  {
   "cell_type": "code",
   "execution_count": 419,
   "metadata": {},
   "outputs": [],
   "source": [
    "data_df[columns_names] = data_df[columns_names].apply(pd.to_numeric, errors='coerce')"
   ]
  },
  {
   "cell_type": "code",
   "execution_count": 420,
   "metadata": {},
   "outputs": [
    {
     "name": "stdout",
     "output_type": "stream",
     "text": [
      "Area Code (M49)    float64\n",
      "Item Code          float64\n",
      "Element Code       float64\n",
      "Y2019              float64\n",
      "Y2020              float64\n",
      "Y2021              float64\n",
      "Y2022              float64\n",
      "Y2023              float64\n",
      "dtype: object\n"
     ]
    }
   ],
   "source": [
    "print(data_df[columns_names].dtypes)"
   ]
  },
  {
   "cell_type": "markdown",
   "metadata": {},
   "source": [
    "#### 4. Get rid of bad item codes like -9999999 ."
   ]
  },
  {
   "cell_type": "code",
   "execution_count": 421,
   "metadata": {},
   "outputs": [
    {
     "data": {
      "text/html": [
       "<div>\n",
       "<style scoped>\n",
       "    .dataframe tbody tr th:only-of-type {\n",
       "        vertical-align: middle;\n",
       "    }\n",
       "\n",
       "    .dataframe tbody tr th {\n",
       "        vertical-align: top;\n",
       "    }\n",
       "\n",
       "    .dataframe thead th {\n",
       "        text-align: right;\n",
       "    }\n",
       "</style>\n",
       "<table border=\"1\" class=\"dataframe\">\n",
       "  <thead>\n",
       "    <tr style=\"text-align: right;\">\n",
       "      <th></th>\n",
       "      <th>Area Code</th>\n",
       "      <th>Area Code (M49)</th>\n",
       "      <th>Area</th>\n",
       "      <th>Item Code</th>\n",
       "      <th>Item</th>\n",
       "      <th>Element Code</th>\n",
       "      <th>Element</th>\n",
       "      <th>Unit</th>\n",
       "      <th>Y2019</th>\n",
       "      <th>Y2020</th>\n",
       "      <th>Y2021</th>\n",
       "      <th>Y2022</th>\n",
       "      <th>Y2023</th>\n",
       "    </tr>\n",
       "  </thead>\n",
       "  <tbody>\n",
       "    <tr>\n",
       "      <th>17</th>\n",
       "      <td>3</td>\n",
       "      <td>NaN</td>\n",
       "      <td>Albania</td>\n",
       "      <td>-9999999.0</td>\n",
       "      <td>Gross Fixed Capital Formation</td>\n",
       "      <td>6187.0</td>\n",
       "      <td>Share of GDP US$, 2015 prices</td>\n",
       "      <td>%</td>\n",
       "      <td>22.979889</td>\n",
       "      <td>23.480017</td>\n",
       "      <td>25.654031</td>\n",
       "      <td>26.21078</td>\n",
       "      <td>26.282782</td>\n",
       "    </tr>\n",
       "    <tr>\n",
       "      <th>322</th>\n",
       "      <td>57</td>\n",
       "      <td>NaN</td>\n",
       "      <td>Belarus</td>\n",
       "      <td>-9999999.0</td>\n",
       "      <td>Value Added (Agriculture)</td>\n",
       "      <td>61550.0</td>\n",
       "      <td>Annual growth Standard Local Currency</td>\n",
       "      <td>%</td>\n",
       "      <td>12.758714</td>\n",
       "      <td>13.355582</td>\n",
       "      <td>8.721305</td>\n",
       "      <td>NaN</td>\n",
       "      <td>NaN</td>\n",
       "    </tr>\n",
       "    <tr>\n",
       "      <th>1194</th>\n",
       "      <td>79</td>\n",
       "      <td>NaN</td>\n",
       "      <td>Germany</td>\n",
       "      <td>-9999999.0</td>\n",
       "      <td>Gross Output (Agriculture)</td>\n",
       "      <td>6110.0</td>\n",
       "      <td>Value US$</td>\n",
       "      <td>million USD</td>\n",
       "      <td>64115.351677</td>\n",
       "      <td>61671.460696</td>\n",
       "      <td>NaN</td>\n",
       "      <td>NaN</td>\n",
       "      <td>NaN</td>\n",
       "    </tr>\n",
       "  </tbody>\n",
       "</table>\n",
       "</div>"
      ],
      "text/plain": [
       "     Area Code  Area Code (M49)     Area  Item Code  \\\n",
       "17           3              NaN  Albania -9999999.0   \n",
       "322         57              NaN  Belarus -9999999.0   \n",
       "1194        79              NaN  Germany -9999999.0   \n",
       "\n",
       "                               Item  Element Code  \\\n",
       "17    Gross Fixed Capital Formation        6187.0   \n",
       "322       Value Added (Agriculture)       61550.0   \n",
       "1194     Gross Output (Agriculture)        6110.0   \n",
       "\n",
       "                                    Element         Unit         Y2019  \\\n",
       "17            Share of GDP US$, 2015 prices            %     22.979889   \n",
       "322   Annual growth Standard Local Currency            %     12.758714   \n",
       "1194                              Value US$  million USD  64115.351677   \n",
       "\n",
       "             Y2020      Y2021     Y2022      Y2023  \n",
       "17       23.480017  25.654031  26.21078  26.282782  \n",
       "322      13.355582   8.721305       NaN        NaN  \n",
       "1194  61671.460696        NaN       NaN        NaN  "
      ]
     },
     "execution_count": 421,
     "metadata": {},
     "output_type": "execute_result"
    }
   ],
   "source": [
    "data_df[data_df['Item Code'] < 0]\n"
   ]
  },
  {
   "cell_type": "code",
   "execution_count": 422,
   "metadata": {},
   "outputs": [
    {
     "name": "stdout",
     "output_type": "stream",
     "text": [
      "Empty DataFrame\n",
      "Columns: [Area Code, Area Code (M49), Area, Item Code, Item, Element Code, Element, Unit, Y2019, Y2020, Y2021, Y2022, Y2023]\n",
      "Index: []\n"
     ]
    }
   ],
   "source": [
    "data_df = data_df[data_df['Item Code'] > 0]\n",
    "print(data_df[data_df['Item Code'] < 0])\n"
   ]
  },
  {
   "cell_type": "markdown",
   "metadata": {},
   "source": [
    "#### 5. Handling outliers by capping them at the mean"
   ]
  },
  {
   "cell_type": "code",
   "execution_count": 423,
   "metadata": {},
   "outputs": [
    {
     "name": "stdout",
     "output_type": "stream",
     "text": [
      "1272    4.767419e+07\n",
      "1275    4.116913e+07\n",
      "1322    4.641581e+07\n",
      "2692    1.096083e+08\n",
      "2695    8.906355e+07\n",
      "2782    1.061435e+08\n",
      "Name: Y2019, dtype: float64\n",
      "1272    4.842542e+07\n",
      "1275    3.930189e+07\n",
      "1322    4.726872e+07\n",
      "2692    1.076581e+08\n",
      "2695    8.670009e+07\n",
      "2782    1.051341e+08\n",
      "Name: Y2020, dtype: float64\n",
      "1272    5.519893e+07\n",
      "1322    5.344323e+07\n",
      "2692    1.352950e+08\n",
      "2695    9.156771e+07\n",
      "2782    1.321267e+08\n",
      "Name: Y2021, dtype: float64\n",
      "1272    6.607519e+07\n",
      "1322    6.402630e+07\n",
      "2692    1.534352e+08\n",
      "2695    8.967253e+07\n",
      "2782    1.504418e+08\n",
      "Name: Y2022, dtype: float64\n",
      "1272    7.201945e+07\n",
      "2692    1.560102e+08\n",
      "2695    9.031010e+07\n",
      "Name: Y2023, dtype: float64\n"
     ]
    }
   ],
   "source": [
    "for year in ['Y2019', 'Y2020', 'Y2021', 'Y2022', 'Y2023']:\n",
    "    print(data_df[year][data_df[year] > data_df[year].mean() + 10 * data_df[year].std()])"
   ]
  },
  {
   "cell_type": "code",
   "execution_count": 424,
   "metadata": {},
   "outputs": [],
   "source": [
    "for year in ['Y2019', 'Y2020', 'Y2021', 'Y2022', 'Y2023']:\n",
    "    mean, std = data_df[year].mean(), data_df[year].std()\n",
    "    data_df[year] = np.where(data_df[year] > mean + 10 * std, mean, data_df[year])"
   ]
  },
  {
   "cell_type": "markdown",
   "metadata": {},
   "source": [
    "#### 6. Standardizing the unit names\n"
   ]
  },
  {
   "cell_type": "code",
   "execution_count": 425,
   "metadata": {},
   "outputs": [
    {
     "data": {
      "text/plain": [
       "array(['million SLC', 'million USD', 'USD', '%', nan, '3.029878',\n",
       "       'million SLCz', '2022-05-01', '183', '%z', '6.049564'],\n",
       "      dtype=object)"
      ]
     },
     "execution_count": 425,
     "metadata": {},
     "output_type": "execute_result"
    }
   ],
   "source": [
    "data_df['Unit'].unique()"
   ]
  },
  {
   "cell_type": "code",
   "execution_count": 426,
   "metadata": {},
   "outputs": [
    {
     "data": {
      "text/plain": [
       "array(['M SLC', 'M USD', 'USD', '%', nan, '3.029878', 'million SLCz',\n",
       "       '2022-05-01', '183', '%z', '6.049564'], dtype=object)"
      ]
     },
     "execution_count": 426,
     "metadata": {},
     "output_type": "execute_result"
    }
   ],
   "source": [
    "unit_replacements = {'million SLC': 'M SLC', 'million USD': 'M USD', 'USD': 'USD'}\n",
    "data_df['Unit'] = data_df['Unit'].replace(unit_replacements)\n",
    "data_df['Unit'].unique()"
   ]
  },
  {
   "cell_type": "markdown",
   "metadata": {},
   "source": [
    "#### 7. Handling percent signs"
   ]
  },
  {
   "cell_type": "code",
   "execution_count": 427,
   "metadata": {},
   "outputs": [
    {
     "name": "stdout",
     "output_type": "stream",
     "text": [
      "1145    %\n",
      "Name: Unit, dtype: object\n"
     ]
    }
   ],
   "source": [
    "\n",
    "data_df.dropna(inplace=True)\n",
    "for col in data_df.columns:\n",
    "    if data_df[col].dtype == 'object' and data_df[col].str.contains('%').any():\n",
    "        print(data_df[col][data_df[col].str.contains('%')])\n",
    "        data_df[col] = data_df[col].str.replace('%', '')"
   ]
  },
  {
   "cell_type": "markdown",
   "metadata": {},
   "source": [
    "#### 8. Removing quote marks from Area Code"
   ]
  },
  {
   "cell_type": "code",
   "execution_count": 428,
   "metadata": {},
   "outputs": [
    {
     "data": {
      "text/html": [
       "<div>\n",
       "<style scoped>\n",
       "    .dataframe tbody tr th:only-of-type {\n",
       "        vertical-align: middle;\n",
       "    }\n",
       "\n",
       "    .dataframe tbody tr th {\n",
       "        vertical-align: top;\n",
       "    }\n",
       "\n",
       "    .dataframe thead th {\n",
       "        text-align: right;\n",
       "    }\n",
       "</style>\n",
       "<table border=\"1\" class=\"dataframe\">\n",
       "  <thead>\n",
       "    <tr style=\"text-align: right;\">\n",
       "      <th></th>\n",
       "      <th>Area Code</th>\n",
       "      <th>Area Code (M49)</th>\n",
       "      <th>Area</th>\n",
       "      <th>Item Code</th>\n",
       "      <th>Item</th>\n",
       "      <th>Element Code</th>\n",
       "      <th>Element</th>\n",
       "      <th>Unit</th>\n",
       "      <th>Y2019</th>\n",
       "      <th>Y2020</th>\n",
       "      <th>Y2021</th>\n",
       "      <th>Y2022</th>\n",
       "      <th>Y2023</th>\n",
       "    </tr>\n",
       "  </thead>\n",
       "  <tbody>\n",
       "    <tr>\n",
       "      <th>1145</th>\n",
       "      <td>'276</td>\n",
       "      <td>79.0</td>\n",
       "      <td>Germany</td>\n",
       "      <td>22015.0</td>\n",
       "      <td>Gross Fixed Capital Formation</td>\n",
       "      <td>6182.0</td>\n",
       "      <td>Annual growth US$, 2015 prices</td>\n",
       "      <td></td>\n",
       "      <td>1.725703</td>\n",
       "      <td>-2.44643</td>\n",
       "      <td>-0.155592</td>\n",
       "      <td>0.119168</td>\n",
       "      <td>2.131398</td>\n",
       "    </tr>\n",
       "  </tbody>\n",
       "</table>\n",
       "</div>"
      ],
      "text/plain": [
       "     Area Code  Area Code (M49)     Area  Item Code  \\\n",
       "1145      '276             79.0  Germany    22015.0   \n",
       "\n",
       "                               Item  Element Code  \\\n",
       "1145  Gross Fixed Capital Formation        6182.0   \n",
       "\n",
       "                             Element Unit     Y2019    Y2020     Y2021  \\\n",
       "1145  Annual growth US$, 2015 prices       1.725703 -2.44643 -0.155592   \n",
       "\n",
       "         Y2022     Y2023  \n",
       "1145  0.119168  2.131398  "
      ]
     },
     "execution_count": 428,
     "metadata": {},
     "output_type": "execute_result"
    }
   ],
   "source": [
    "data_df.head()"
   ]
  },
  {
   "cell_type": "code",
   "execution_count": 429,
   "metadata": {},
   "outputs": [
    {
     "data": {
      "text/html": [
       "<div>\n",
       "<style scoped>\n",
       "    .dataframe tbody tr th:only-of-type {\n",
       "        vertical-align: middle;\n",
       "    }\n",
       "\n",
       "    .dataframe tbody tr th {\n",
       "        vertical-align: top;\n",
       "    }\n",
       "\n",
       "    .dataframe thead th {\n",
       "        text-align: right;\n",
       "    }\n",
       "</style>\n",
       "<table border=\"1\" class=\"dataframe\">\n",
       "  <thead>\n",
       "    <tr style=\"text-align: right;\">\n",
       "      <th></th>\n",
       "      <th>Area Code</th>\n",
       "      <th>Area Code (M49)</th>\n",
       "      <th>Area</th>\n",
       "      <th>Item Code</th>\n",
       "      <th>Item</th>\n",
       "      <th>Element Code</th>\n",
       "      <th>Element</th>\n",
       "      <th>Unit</th>\n",
       "      <th>Y2019</th>\n",
       "      <th>Y2020</th>\n",
       "      <th>Y2021</th>\n",
       "      <th>Y2022</th>\n",
       "      <th>Y2023</th>\n",
       "    </tr>\n",
       "  </thead>\n",
       "  <tbody>\n",
       "    <tr>\n",
       "      <th>1145</th>\n",
       "      <td>276.0</td>\n",
       "      <td>79.0</td>\n",
       "      <td>Germany</td>\n",
       "      <td>22015.0</td>\n",
       "      <td>Gross Fixed Capital Formation</td>\n",
       "      <td>6182.0</td>\n",
       "      <td>Annual growth US$, 2015 prices</td>\n",
       "      <td></td>\n",
       "      <td>1.725703</td>\n",
       "      <td>-2.44643</td>\n",
       "      <td>-0.155592</td>\n",
       "      <td>0.119168</td>\n",
       "      <td>2.131398</td>\n",
       "    </tr>\n",
       "  </tbody>\n",
       "</table>\n",
       "</div>"
      ],
      "text/plain": [
       "      Area Code  Area Code (M49)     Area  Item Code  \\\n",
       "1145      276.0             79.0  Germany    22015.0   \n",
       "\n",
       "                               Item  Element Code  \\\n",
       "1145  Gross Fixed Capital Formation        6182.0   \n",
       "\n",
       "                             Element Unit     Y2019    Y2020     Y2021  \\\n",
       "1145  Annual growth US$, 2015 prices       1.725703 -2.44643 -0.155592   \n",
       "\n",
       "         Y2022     Y2023  \n",
       "1145  0.119168  2.131398  "
      ]
     },
     "execution_count": 429,
     "metadata": {},
     "output_type": "execute_result"
    }
   ],
   "source": [
    "data_df['Area Code'] = data_df['Area Code'].str.replace(\"'\", \"\").astype(float)\n",
    "data_df.head()"
   ]
  },
  {
   "cell_type": "markdown",
   "metadata": {},
   "source": [
    "#### 9. Setting a Friendly Index"
   ]
  },
  {
   "cell_type": "code",
   "execution_count": 430,
   "metadata": {},
   "outputs": [
    {
     "data": {
      "text/html": [
       "<div>\n",
       "<style scoped>\n",
       "    .dataframe tbody tr th:only-of-type {\n",
       "        vertical-align: middle;\n",
       "    }\n",
       "\n",
       "    .dataframe tbody tr th {\n",
       "        vertical-align: top;\n",
       "    }\n",
       "\n",
       "    .dataframe thead th {\n",
       "        text-align: right;\n",
       "    }\n",
       "</style>\n",
       "<table border=\"1\" class=\"dataframe\">\n",
       "  <thead>\n",
       "    <tr style=\"text-align: right;\">\n",
       "      <th></th>\n",
       "      <th>Area Code</th>\n",
       "      <th>Area Code (M49)</th>\n",
       "      <th>Area</th>\n",
       "      <th>Item Code</th>\n",
       "      <th>Item</th>\n",
       "      <th>Element Code</th>\n",
       "      <th>Element</th>\n",
       "      <th>Unit</th>\n",
       "      <th>Y2019</th>\n",
       "      <th>Y2020</th>\n",
       "      <th>Y2021</th>\n",
       "      <th>Y2022</th>\n",
       "      <th>Y2023</th>\n",
       "    </tr>\n",
       "  </thead>\n",
       "  <tbody>\n",
       "    <tr>\n",
       "      <th>1145</th>\n",
       "      <td>276.0</td>\n",
       "      <td>79.0</td>\n",
       "      <td>Germany</td>\n",
       "      <td>22015.0</td>\n",
       "      <td>Gross Fixed Capital Formation</td>\n",
       "      <td>6182.0</td>\n",
       "      <td>Annual growth US$, 2015 prices</td>\n",
       "      <td></td>\n",
       "      <td>1.725703</td>\n",
       "      <td>-2.44643</td>\n",
       "      <td>-0.155592</td>\n",
       "      <td>0.119168</td>\n",
       "      <td>2.131398</td>\n",
       "    </tr>\n",
       "  </tbody>\n",
       "</table>\n",
       "</div>"
      ],
      "text/plain": [
       "      Area Code  Area Code (M49)     Area  Item Code  \\\n",
       "1145      276.0             79.0  Germany    22015.0   \n",
       "\n",
       "                               Item  Element Code  \\\n",
       "1145  Gross Fixed Capital Formation        6182.0   \n",
       "\n",
       "                             Element Unit     Y2019    Y2020     Y2021  \\\n",
       "1145  Annual growth US$, 2015 prices       1.725703 -2.44643 -0.155592   \n",
       "\n",
       "         Y2022     Y2023  \n",
       "1145  0.119168  2.131398  "
      ]
     },
     "execution_count": 430,
     "metadata": {},
     "output_type": "execute_result"
    }
   ],
   "source": [
    "data_df.head()"
   ]
  },
  {
   "cell_type": "code",
   "execution_count": 431,
   "metadata": {},
   "outputs": [],
   "source": [
    "data_df.set_index(['Area Code', 'Item Code'], inplace=True)"
   ]
  },
  {
   "cell_type": "markdown",
   "metadata": {},
   "source": [
    "#### 10. Renaming columns to human-friendly names :\""
   ]
  },
  {
   "cell_type": "code",
   "execution_count": 432,
   "metadata": {},
   "outputs": [
    {
     "data": {
      "text/plain": [
       "Index(['Area Code (M49)', 'Area', 'Item', 'Element Code', 'Element', 'Unit',\n",
       "       'Y2019', 'Y2020', 'Y2021', 'Y2022', 'Y2023'],\n",
       "      dtype='object')"
      ]
     },
     "execution_count": 432,
     "metadata": {},
     "output_type": "execute_result"
    }
   ],
   "source": [
    "data_df.columns"
   ]
  },
  {
   "cell_type": "code",
   "execution_count": 433,
   "metadata": {},
   "outputs": [
    {
     "data": {
      "text/plain": [
       "Index(['Area Code (M49)', 'Area', 'Item', 'Element Code', 'Element', 'Unit',\n",
       "       'Year_2019', 'Year_2020', 'Year_2021', 'Year_2022', 'Year_2023'],\n",
       "      dtype='object')"
      ]
     },
     "execution_count": 433,
     "metadata": {},
     "output_type": "execute_result"
    }
   ],
   "source": [
    "data_df.rename(columns=lambda x: x.replace('Y', 'Year_'), inplace=True)\n",
    "data_df.columns"
   ]
  },
  {
   "cell_type": "markdown",
   "metadata": {},
   "source": []
  }
 ],
 "metadata": {
  "kernelspec": {
   "display_name": "ASDA",
   "language": "python",
   "name": "python3"
  },
  "language_info": {
   "codemirror_mode": {
    "name": "ipython",
    "version": 3
   },
   "file_extension": ".py",
   "mimetype": "text/x-python",
   "name": "python",
   "nbconvert_exporter": "python",
   "pygments_lexer": "ipython3",
   "version": "3.12.7"
  }
 },
 "nbformat": 4,
 "nbformat_minor": 2
}
