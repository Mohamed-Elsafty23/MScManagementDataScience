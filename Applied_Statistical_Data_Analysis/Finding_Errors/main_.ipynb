{
 "cells": [
  {
   "cell_type": "markdown",
   "metadata": {},
   "source": [
    "## Loading the dataset"
   ]
  },
  {
   "cell_type": "code",
   "execution_count": 131,
   "metadata": {},
   "outputs": [
    {
     "data": {
      "text/html": [
       "<div>\n",
       "<style scoped>\n",
       "    .dataframe tbody tr th:only-of-type {\n",
       "        vertical-align: middle;\n",
       "    }\n",
       "\n",
       "    .dataframe tbody tr th {\n",
       "        vertical-align: top;\n",
       "    }\n",
       "\n",
       "    .dataframe thead th {\n",
       "        text-align: right;\n",
       "    }\n",
       "</style>\n",
       "<table border=\"1\" class=\"dataframe\">\n",
       "  <thead>\n",
       "    <tr style=\"text-align: right;\">\n",
       "      <th></th>\n",
       "      <th>T17</th>\n",
       "      <th>Labour force participation and unemployment</th>\n",
       "      <th>Unnamed: 2</th>\n",
       "      <th>Unnamed: 3</th>\n",
       "      <th>Unnamed: 4</th>\n",
       "      <th>Unnamed: 5</th>\n",
       "      <th>Unnamed: 6</th>\n",
       "    </tr>\n",
       "  </thead>\n",
       "  <tbody>\n",
       "    <tr>\n",
       "      <th>0</th>\n",
       "      <td>Region_Country/Area</td>\n",
       "      <td>NaN</td>\n",
       "      <td>Year</td>\n",
       "      <td>Serias</td>\n",
       "      <td>Value</td>\n",
       "      <td>Foodnotes</td>\n",
       "      <td>Source</td>\n",
       "    </tr>\n",
       "    <tr>\n",
       "      <th>1</th>\n",
       "      <td>1,00</td>\n",
       "      <td>Total, all countries or areas</td>\n",
       "      <td>62.9</td>\n",
       "      <td>Labour force participation - Total</td>\n",
       "      <td>2005</td>\n",
       "      <td>Estimate.</td>\n",
       "      <td>International Labour Organization (ILO), Genev...</td>\n",
       "    </tr>\n",
       "    <tr>\n",
       "      <th>2</th>\n",
       "      <td>1,00</td>\n",
       "      <td>Total, all countries or areas</td>\n",
       "      <td>06. Mrz</td>\n",
       "      <td>Unemployment rate - Total</td>\n",
       "      <td>2005</td>\n",
       "      <td>Estimate.</td>\n",
       "      <td>International Labour Organization (ILO), Genev...</td>\n",
       "    </tr>\n",
       "    <tr>\n",
       "      <th>3</th>\n",
       "      <td>1,00</td>\n",
       "      <td>Total, all countries or areas</td>\n",
       "      <td>76.1</td>\n",
       "      <td>Labour force participation - Male</td>\n",
       "      <td>2005</td>\n",
       "      <td>Estimate.</td>\n",
       "      <td>International Labour Organization (ILO), Genev...</td>\n",
       "    </tr>\n",
       "    <tr>\n",
       "      <th>4</th>\n",
       "      <td>1,00</td>\n",
       "      <td>Total, all countries or areas</td>\n",
       "      <td>06. Feb</td>\n",
       "      <td>Unemployment rate - Male</td>\n",
       "      <td>2005</td>\n",
       "      <td>Estimate.</td>\n",
       "      <td>International Labour Organization (ILO), Genev...</td>\n",
       "    </tr>\n",
       "  </tbody>\n",
       "</table>\n",
       "</div>"
      ],
      "text/plain": [
       "                   T17 Labour force participation and unemployment Unnamed: 2  \\\n",
       "0  Region_Country/Area                                         NaN       Year   \n",
       "1                 1,00               Total, all countries or areas       62.9   \n",
       "2                 1,00               Total, all countries or areas    06. Mrz   \n",
       "3                 1,00               Total, all countries or areas       76.1   \n",
       "4                 1,00               Total, all countries or areas    06. Feb   \n",
       "\n",
       "                           Unnamed: 3 Unnamed: 4 Unnamed: 5  \\\n",
       "0                              Serias      Value  Foodnotes   \n",
       "1  Labour force participation - Total       2005  Estimate.   \n",
       "2           Unemployment rate - Total       2005  Estimate.   \n",
       "3   Labour force participation - Male       2005  Estimate.   \n",
       "4            Unemployment rate - Male       2005  Estimate.   \n",
       "\n",
       "                                          Unnamed: 6  \n",
       "0                                             Source  \n",
       "1  International Labour Organization (ILO), Genev...  \n",
       "2  International Labour Organization (ILO), Genev...  \n",
       "3  International Labour Organization (ILO), Genev...  \n",
       "4  International Labour Organization (ILO), Genev...  "
      ]
     },
     "execution_count": 131,
     "metadata": {},
     "output_type": "execute_result"
    }
   ],
   "source": [
    "import pandas as pd\n",
    "import numpy as np\n",
    "\n",
    "df = pd.read_csv('Group_2_corrupted_data_set_group2_labour_unemployment.txt', delimiter='\\t',encoding='ISO-8859-1')\n",
    "df.head()\n"
   ]
  },
  {
   "cell_type": "markdown",
   "metadata": {},
   "source": [
    "#### 1. Incorrect column names\n"
   ]
  },
  {
   "cell_type": "code",
   "execution_count": 132,
   "metadata": {},
   "outputs": [
    {
     "name": "stdout",
     "output_type": "stream",
     "text": [
      "Original column names: ['T17', 'Labour force participation and unemployment', 'Unnamed: 2', 'Unnamed: 3', 'Unnamed: 4', 'Unnamed: 5', 'Unnamed: 6']\n",
      "Updated column names: ['Region_Country_Area', 'Labour force participation and unemployment', 'Year', 'Series', 'Value', 'Footnotes', 'Source']\n"
     ]
    }
   ],
   "source": [
    "print(\"Original column names:\", df.columns.tolist())\n",
    "df.columns = [\"Region_Country_Area\",\"Labour force participation and unemployment\", \"Year\", \"Series\", \"Value\", \"Footnotes\", \"Source\"]\n",
    "print(\"Updated column names:\", df.columns.tolist())"
   ]
  },
  {
   "cell_type": "markdown",
   "metadata": {},
   "source": [
    "#### 2. Strip extra Spaces in column names and values\n"
   ]
  },
  {
   "cell_type": "code",
   "execution_count": 133,
   "metadata": {},
   "outputs": [
    {
     "name": "stderr",
     "output_type": "stream",
     "text": [
      "C:\\Users\\Mohamed Elsafty\\AppData\\Local\\Temp\\ipykernel_10616\\2688868474.py:2: FutureWarning: DataFrame.applymap has been deprecated. Use DataFrame.map instead.\n",
      "  df = df.applymap(lambda x: x.strip() if isinstance(x, str) else x)\n"
     ]
    },
    {
     "data": {
      "text/html": [
       "<div>\n",
       "<style scoped>\n",
       "    .dataframe tbody tr th:only-of-type {\n",
       "        vertical-align: middle;\n",
       "    }\n",
       "\n",
       "    .dataframe tbody tr th {\n",
       "        vertical-align: top;\n",
       "    }\n",
       "\n",
       "    .dataframe thead th {\n",
       "        text-align: right;\n",
       "    }\n",
       "</style>\n",
       "<table border=\"1\" class=\"dataframe\">\n",
       "  <thead>\n",
       "    <tr style=\"text-align: right;\">\n",
       "      <th></th>\n",
       "      <th>Region_Country_Area</th>\n",
       "      <th>Labour force participation and unemployment</th>\n",
       "      <th>Year</th>\n",
       "      <th>Series</th>\n",
       "      <th>Value</th>\n",
       "      <th>Footnotes</th>\n",
       "      <th>Source</th>\n",
       "    </tr>\n",
       "  </thead>\n",
       "  <tbody>\n",
       "    <tr>\n",
       "      <th>0</th>\n",
       "      <td>Region_Country/Area</td>\n",
       "      <td>NaN</td>\n",
       "      <td>Year</td>\n",
       "      <td>Serias</td>\n",
       "      <td>Value</td>\n",
       "      <td>Foodnotes</td>\n",
       "      <td>Source</td>\n",
       "    </tr>\n",
       "    <tr>\n",
       "      <th>1</th>\n",
       "      <td>1,00</td>\n",
       "      <td>Total, all countries or areas</td>\n",
       "      <td>62.9</td>\n",
       "      <td>Labour force participation - Total</td>\n",
       "      <td>2005</td>\n",
       "      <td>Estimate.</td>\n",
       "      <td>International Labour Organization (ILO), Genev...</td>\n",
       "    </tr>\n",
       "    <tr>\n",
       "      <th>2</th>\n",
       "      <td>1,00</td>\n",
       "      <td>Total, all countries or areas</td>\n",
       "      <td>06. Mrz</td>\n",
       "      <td>Unemployment rate - Total</td>\n",
       "      <td>2005</td>\n",
       "      <td>Estimate.</td>\n",
       "      <td>International Labour Organization (ILO), Genev...</td>\n",
       "    </tr>\n",
       "    <tr>\n",
       "      <th>3</th>\n",
       "      <td>1,00</td>\n",
       "      <td>Total, all countries or areas</td>\n",
       "      <td>76.1</td>\n",
       "      <td>Labour force participation - Male</td>\n",
       "      <td>2005</td>\n",
       "      <td>Estimate.</td>\n",
       "      <td>International Labour Organization (ILO), Genev...</td>\n",
       "    </tr>\n",
       "    <tr>\n",
       "      <th>4</th>\n",
       "      <td>1,00</td>\n",
       "      <td>Total, all countries or areas</td>\n",
       "      <td>06. Feb</td>\n",
       "      <td>Unemployment rate - Male</td>\n",
       "      <td>2005</td>\n",
       "      <td>Estimate.</td>\n",
       "      <td>International Labour Organization (ILO), Genev...</td>\n",
       "    </tr>\n",
       "  </tbody>\n",
       "</table>\n",
       "</div>"
      ],
      "text/plain": [
       "   Region_Country_Area Labour force participation and unemployment     Year  \\\n",
       "0  Region_Country/Area                                         NaN     Year   \n",
       "1                 1,00               Total, all countries or areas     62.9   \n",
       "2                 1,00               Total, all countries or areas  06. Mrz   \n",
       "3                 1,00               Total, all countries or areas     76.1   \n",
       "4                 1,00               Total, all countries or areas  06. Feb   \n",
       "\n",
       "                               Series  Value  Footnotes  \\\n",
       "0                              Serias  Value  Foodnotes   \n",
       "1  Labour force participation - Total   2005  Estimate.   \n",
       "2           Unemployment rate - Total   2005  Estimate.   \n",
       "3   Labour force participation - Male   2005  Estimate.   \n",
       "4            Unemployment rate - Male   2005  Estimate.   \n",
       "\n",
       "                                              Source  \n",
       "0                                             Source  \n",
       "1  International Labour Organization (ILO), Genev...  \n",
       "2  International Labour Organization (ILO), Genev...  \n",
       "3  International Labour Organization (ILO), Genev...  \n",
       "4  International Labour Organization (ILO), Genev...  "
      ]
     },
     "execution_count": 133,
     "metadata": {},
     "output_type": "execute_result"
    }
   ],
   "source": [
    "df.columns = df.columns.str.strip()\n",
    "df = df.applymap(lambda x: x.strip() if isinstance(x, str) else x)\n",
    "df.head()"
   ]
  },
  {
   "cell_type": "markdown",
   "metadata": {},
   "source": [
    "#### 3. Fix format of \"Year\" column by converting non-year values to NAN\n"
   ]
  },
  {
   "cell_type": "code",
   "execution_count": 134,
   "metadata": {},
   "outputs": [
    {
     "name": "stdout",
     "output_type": "stream",
     "text": [
      "['Year' '62.9' '06. Mrz' '76.1' '06. Feb' '49.8' '06. Mai' '62.0' '75.3'\n",
      " '48.9' '06. Apr' '60.7' '6.0' '73.9' '47.6' '06. Jan' '59.7' '2023'\n",
      " '2005' '2010' '2015' nan '2020' '2000' '2001' '2011' '2009' '2012' '2013'\n",
      " '2006' '2008' '2002' '2003' '2021' '2014']\n",
      "[  nan 2023. 2005. 2010. 2015. 2020. 2000. 2001. 2011. 2009. 2012. 2013.\n",
      " 2006. 2008. 2002. 2003. 2021. 2014.]\n"
     ]
    }
   ],
   "source": [
    "print(df['Year'].unique())\n",
    "def clean_year(value):\n",
    "    try:\n",
    "        year = int(value)\n",
    "        return year\n",
    "    except ValueError:\n",
    "        return np.nan\n",
    "\n",
    "df['Year'] = df['Year'].apply(clean_year)\n",
    "\n",
    "print(df['Year'].unique())\n"
   ]
  },
  {
   "cell_type": "markdown",
   "metadata": {},
   "source": [
    "#### 4. Remove NAN values in \"Year\" column"
   ]
  },
  {
   "cell_type": "code",
   "execution_count": 135,
   "metadata": {},
   "outputs": [],
   "source": [
    "df.dropna(subset=['Year'], inplace=True)"
   ]
  },
  {
   "cell_type": "markdown",
   "metadata": {},
   "source": [
    "#### 5. Drop duplicate rows\n"
   ]
  },
  {
   "cell_type": "code",
   "execution_count": 136,
   "metadata": {},
   "outputs": [
    {
     "name": "stdout",
     "output_type": "stream",
     "text": [
      "Duplicate rows before: 4\n",
      "Duplicate rows after: 0\n"
     ]
    }
   ],
   "source": [
    "print(\"Duplicate rows before:\", df.duplicated().sum())\n",
    "df.drop_duplicates(inplace=True)\n",
    "print(\"Duplicate rows after:\", df.duplicated().sum())\n"
   ]
  },
  {
   "cell_type": "markdown",
   "metadata": {},
   "source": [
    "#### 6. Replace month Abbreviations in Value Column with NaN\n"
   ]
  },
  {
   "cell_type": "code",
   "execution_count": 137,
   "metadata": {},
   "outputs": [
    {
     "name": "stdout",
     "output_type": "stream",
     "text": [
      "['05. Aug' '72.4' '05. Jul' '47.2' '64.4' '06. Jun' '74.2' '06. Mrz'\n",
      " '54.9' '06. Sep' '63.8' '06. Mai' '73.5' '54.3' '07. Apr' '62.7'\n",
      " '06. Jul' '72.0' '53.6' '07. Feb' '07. Jan' '71.8' '53.8' '07. Aug'\n",
      " '46.6' '12. Jul' '71.4' '10. Jun' '21. Jul' '19. Jun' '47.8' '10. Mai'\n",
      " '72.3' '07. Mai' '23. Jan' '20. Jan' '46.4' '13. Jan' '69.4' '10. Feb'\n",
      " '23. Feb' '21. Sep' '43.7' '11. Mrz' '67.4' '08. Mai' '19. Sep' '20. Mai'\n",
      " '69.8' '05. Mrz' '75.0' '05. Jan' '64.7' '05. Jun' '68.5' '73.9' '63.3'\n",
      " '6.0' '67.2' '05. Mai' '72.7' '05. Feb' '61.9' '67.6' '06. Apr' '73.0'\n",
      " '06. Jan' '62.3' '06. Aug' '76.3' '04. Jan' '81.1' '03. Jul' '04. Mai'\n",
      " '75.7' '04. Feb' '80.6' '71.0' '04. Jul' '75.1' '78.6' '70.6' '05. Apr'\n",
      " '4.0' '76.4' '04. Mrz' '70.8' '03. Jun' '70.2' '66.3' '05. Sep' '68.4'\n",
      " '72.9' '64.1' '68.3' '72.2' '60.0' '19. Aug' '17. Aug' '52.5' '22. Jan'\n",
      " '54.8' '22. Aug' '21. Feb' '47.7' '24. Jun' '58.0' '22. Mai' '65.3'\n",
      " '20. Aug' '51.5' '24. Mai' '58.4' '28. Aug' '64.9' '27. Mrz' '30. Mai'\n",
      " '69.7' '57.9' '69.2' '03. Sep' '57.4' '60.2' '66.4' '54.0' '0.00061.2'\n",
      " '04. Jun' '6800.6' '53.9' '06. Feb' '08. Mrz' '63.7' '8.0' '74.3' '53.5'\n",
      " '08. Jul' '63.0' '53.0' '62.2' '71.6' '53.2' '7.0' '65.0' '71.9' '58.5'\n",
      " '09. Mai' '10. Mrz' '58.1' '62.5' '68.6' '56.5' '67.7' '04. Aug' '56.9'\n",
      " '63.9' '78.3' '50.2' '63.6' '77.2' '50.6' '08. Aug' '76.6' '50.7' '74.1'\n",
      " '50.9' '08. Jun' '57.2' '07. Jun' '69.5' '45.3' '09. Jun' '57.3'\n",
      " '08. Jan' '46.5' '09. Jul' '59.3' '69.9' '49.0' '50.8' '10. Apr' '60.7'\n",
      " '41.6' '04. Apr' '79.4' '43.1' '61.0' '79.1' '44.0' '04. Sep' '61.3'\n",
      " '77.9' '03. Aug' '45.7' '65.8' '09. Aug' '78.2' '07. Sep' '12. Mai'\n",
      " '77.3' '64.6' '62.8' '52.9' '71.2' '51.6' '08. Apr' '59.8' '50.0' '58.6'\n",
      " '5.0' '69.3' '48.5' '72.1' '79.5' '61.7' '68.2' '75.2' '61.1' '65.9'\n",
      " '59.7' '66.9' '80.1' '03. Mrz' '79.9' '03. Feb' '55.6' '03. Apr'\n",
      " '02. Sep' '79.8' '3.0' '02. Aug' '66.0' '02. Mai' '02. Jun' '02. Mrz'\n",
      " '07. Jul' '28. Jan' '07. Mrz' '78.7' '27. Apr' '50.5' '75.9' '24. Feb'\n",
      " '08. Feb' '74.6' '24. Sep' '48.2' '74.9' '16. Jul' '13. Feb' '16. Sep'\n",
      " '14. Jan' '76.5' '18. Jun' '17. Apr' '09. Apr' '19. Mai' '19.0' '51.0'\n",
      " '70.0' '32.6' '51.9' '69.1' '35.2' '54.4' '11700.10' '9.0' '38.4'\n",
      " '10. Aug' '55.4' '08. Sep' '70.5' '40.7' '52.2' '59.1' '66.7' '52.6'\n",
      " '59.5' '58.8' '67.0' '51.7' '62.4' '56.0' '56.6' '67.9' '62.9' '66.8'\n",
      " '64.0' '42.7' '13.0' '53.4' '14. Feb' '13. Apr' '44.7' '15. Apr' '53.3'\n",
      " '17. Feb' '61.4' '16. Feb' '18. Mai' '10. Jul' '60.9' '46.8' '12. Feb'\n",
      " '58.2' '09. Jan' '65.6' '51.3' '59.0' '59.9' '55.2' '64.2' '57.6' '57.0'\n",
      " '47.1' '16. Jan' '46.9' '15. Mai' '75.3' '19. Jan' '11. Mai' '11. Jul'\n",
      " '16. Mai' '16. Aug' '56.4' '16.0' '15. Jun' '16. Apr' '12. Aug' '46.7'\n",
      " '15. Sep' '55.5' '47.0' '17. Jan' '59.4' '66.6' '12. Jun' '52.3' '42.5'\n",
      " '15. Mrz' '70.9' '14. Sep' '41.7' '10.0' '19. Feb' '11. Feb' '09. Sep'\n",
      " '16. Jun' '40.8' '11. Jun' '20. Apr' '41.2' '52.8' '09. Feb' '78.9'\n",
      " '03. Jan' '79.0' '75.6' '10. Sep' '77.0' '10. Jan' '61.5' '49.1'\n",
      " '13. Jun' '73.3' '59.2' '71.5' '47.5' '60.5' '09. Mrz' '54.5' '11. Jan'\n",
      " '68.8' '11.0' '61.6' '13. Mai' '55.7' '68.9' '69.6' '65.4' '71.1' '65.7'\n",
      " '03. Mai' '61.2' '60.4' '67.1' '54.2' '55.9' '70.7' '63.4' '66.1' '81.6'\n",
      " '14. Mrz' '81.7' '14.0' '14. Jun' '73.6' '12.0' '81.3' '79.3' '01. Jan'\n",
      " '84.7' '0.4' '39.0' '87.0' '43.6' '01. Feb' '86.2' '0.5' '43.0' '01. Apr'\n",
      " '86.8' '0.6' '86.6' '29.0' '84.2' '30. Aug' '56.3' '80.4' '32.8' '58.7'\n",
      " '80.5' '37.7' '64.5' '67.5' '60.8' '60.3' '0.00001' '66.5' '55.1' '70.3'\n",
      " '57.1' '54.1' '58.9' '48.0' '54.7' '50.3' '79.7' '41.8' '62.1' '44.9'\n",
      " '64.3' '80.0' '48.6' '0.8' '77.1' '0.9' '0.7' '1.0' '74.7' '2.0'\n",
      " '01. Aug' '01. Jun' '56.2' '01. Sep' '02. Jul' '82.0' '86.0' '84.0'\n",
      " '81.0' '76.1' '72.6' '63.1' '70.1' '02. Jan' '60.1' '81.8' '02. Feb'\n",
      " '54.6' '43.2' '30. Jan' '27. Sep' '33.9' '25. Jul' '34.0' '29. Sep'\n",
      " '46.3' '27. Jul' '57.8' '25. Aug' '35.4' '30. Jul' '49.2' '12. Apr'\n",
      " '17. Jul' '66.2' '22. Mrz' '17. Sep' '14. Jul' '52.7' '21. Jun' '61.8'\n",
      " '19. Mrz' '68.0' '22.0' '18. Sep' '22. Sep' '78.0' '76.0' '53.7'\n",
      " '11. Apr' '67.3' '77.5' '56.1' '55.8' '49.7' '44.4' '51.1' '85.8' '62.0'\n",
      " '80.2' '73.8' '57.7' '81.9' '02. Apr' '01. Mai' '77.8' '80.7' '81.5'\n",
      " '59.6' '74.0' '46.0' '70.4' '48.1' '11. Aug' '12. Mrz' '13. Sep' '79.2'\n",
      " '63.5' '78.4' '0.3' '75.5' '85.6' '78.1' '76.2' '82.1' '71.7' '72.8'\n",
      " '88.0' '83.1' '77.4' '63.2' '78.8' '77.7' '74.8' '01. Mrz' '48.3' '40.2'\n",
      " '45.5' '48.4' '47.9' '75.8' '64.8' '68.7' '74.4' '11. Sep' '52.0' '67.8'\n",
      " '80.8' '55.3' '81.4' '51.4' '44.2' '33.3' '69.0' '21. Jan' '20.0'\n",
      " '18. Aug' '21. Mrz' '20. Feb' '23.0' '74.5' '79.6' '44.5' '43.9' '49.9'\n",
      " '73.2' '50.4' '76.7' '73.1' '57.5' '49.6' '42.6' '46.1' '51.8' '55.0'\n",
      " '41.9' '42.4' '18. Feb' '73.4' '15.0' '14. Aug' '49.3' '51.2' '72.5'\n",
      " '65.1' '56.7' '58.3' '34.7' '25.0' '37.3' '33.1' '27. Feb' '23. Aug'\n",
      " '36.6' '32.4' '26. Mrz' '47.3' '18.0' '36.1' '31. Mai' '28.0' '45.0'\n",
      " '18. Mrz' '37.9' '39.5' '41.5' '82.3' '77.6' '71.3' '49.4' '24. Jul'\n",
      " '15. Feb' '60.6' '45.2' '45.9' '45.8' '83.2' '84.8' '52.1' '27.0'\n",
      " '24. Mrz' '46.2' '26. Apr' '24. Jan' '23. Mrz' '25. Mrz' '26. Jun' '89.6'\n",
      " '88.8' '01. Jul' '87.6' '86.1' '85.3' '82.9' '34.8' '43.8' '39.9' '56.8'\n",
      " '38.2' '62.6' '42.1' '24. Aug' '36.3' '48.9' '21.0' '25. Jan' '12. Jan'\n",
      " '12. Sep' '48.7' '20. Jun' '39.8' '28. Jun' '21. Apr' '39.4' '29. Apr'\n",
      " '53.1' '13. Aug' '73.7' '65.5' '17. Jun' '80.3' '18. Jul' '44.1'\n",
      " '28. Sep' '25. Sep' '22. Apr' '29. Mai' '26.0' '26. Jan' '28. Mrz' '84.3'\n",
      " '42.0' '83.7' '38.5' '37.2' '35.8' '14. Mai' '13. Mrz' '40.9' '15. Aug'\n",
      " '39.3' '13. Jul' '14. Apr' '18. Jan' '41.3' '49.8' '80.9' '23. Jul'\n",
      " '82.8' '82.4' '45.4' '15. Jan' '41.4' '42.8' '41.0' '15. Jul' '29. Mrz'\n",
      " '38.1' '49.5' '41.1' '76.9' '38.3' '39.7' '65.2' '30. Jun' '27. Jun'\n",
      " '34.1' '32.9' '29. Jul' '28. Jul' '37.1' '30. Sep' '40.0' '40.6' '82.2'\n",
      " '83.9' '87.3' '85.9' '22. Jul' '16. Mrz' '44.8' '17.0' '83.0' '76.8'\n",
      " '25. Jun' '47.6' '25. Mai' '26. Jul' '89.0' '86.5' '89.1' '83.3' '88.1'\n",
      " '43.5' '37.0' '33.7' '44.6' '39.6' '19. Jul' '43.3' '22. Feb' '27. Mai'\n",
      " '42.9' '35.1' '30. Mrz' '48.8' '42.2' '20. Jul' '17. Mrz' '50.1' '85.2'\n",
      " '89.2' '24. Apr' '83.4' '25. Feb' '24.0' '20. Sep' '29. Jun' '23. Jun'\n",
      " '85.1' '83.5' '89.7' '90.2' '36.8' '43.4' '33.6' '27. Jan' '25. Apr'\n",
      " '82.5' '26. Mai' '87.4' '29. Aug' '78.5' '75.4' '84.9' '84.4' '37.6'\n",
      " '31.9' '31.0' '95.1' '95.8' '0.1' '0.2' '95.6' '88.3' '96.9' '0.0' '38.6'\n",
      " '30.0' '18. Apr' '17. Mai' '37.5' nan '38.0' '33.5' '33.8' '34.3' '38.8'\n",
      " '86.3' '34.5' '34.6' '52.4' '28. Apr' '31. Jul' '68.1' '31. Jan'\n",
      " '26. Sep' '31. Mrz' '47.4' '91.7' '91.4' '82.7' '92.8' '89.4' '88.9'\n",
      " '26. Feb' '30. Apr' '20. Mrz']\n"
     ]
    },
    {
     "data": {
      "text/plain": [
       "array([        nan, 7.24000e+01, 4.72000e+01, 6.44000e+01, 7.42000e+01,\n",
       "       5.49000e+01, 6.38000e+01, 7.35000e+01, 5.43000e+01, 6.27000e+01,\n",
       "       7.20000e+01, 5.36000e+01, 7.18000e+01, 5.38000e+01, 4.66000e+01,\n",
       "       7.14000e+01, 4.78000e+01, 7.23000e+01, 4.64000e+01, 6.94000e+01,\n",
       "       4.37000e+01, 6.74000e+01, 6.98000e+01, 7.50000e+01, 6.47000e+01,\n",
       "       6.85000e+01, 7.39000e+01, 6.33000e+01, 6.00000e+00, 6.72000e+01,\n",
       "       7.27000e+01, 6.19000e+01, 6.76000e+01, 7.30000e+01, 6.23000e+01,\n",
       "       7.63000e+01, 8.11000e+01, 7.57000e+01, 8.06000e+01, 7.10000e+01,\n",
       "       7.51000e+01, 7.86000e+01, 7.06000e+01, 4.00000e+00, 7.64000e+01,\n",
       "       7.08000e+01, 7.02000e+01, 6.63000e+01, 6.84000e+01, 7.29000e+01,\n",
       "       6.41000e+01, 6.83000e+01, 7.22000e+01, 6.00000e+01, 5.25000e+01,\n",
       "       5.48000e+01, 4.77000e+01, 5.80000e+01, 6.53000e+01, 5.15000e+01,\n",
       "       5.84000e+01, 6.49000e+01, 6.97000e+01, 5.79000e+01, 6.92000e+01,\n",
       "       5.74000e+01, 6.02000e+01, 6.64000e+01, 5.40000e+01, 6.80060e+03,\n",
       "       5.39000e+01, 6.37000e+01, 8.00000e+00, 7.43000e+01, 5.35000e+01,\n",
       "       6.30000e+01, 5.30000e+01, 6.22000e+01, 7.16000e+01, 5.32000e+01,\n",
       "       7.00000e+00, 6.50000e+01, 7.19000e+01, 5.85000e+01, 5.81000e+01,\n",
       "       6.25000e+01, 6.86000e+01, 5.65000e+01, 6.77000e+01, 5.69000e+01,\n",
       "       6.39000e+01, 7.83000e+01, 5.02000e+01, 6.36000e+01, 7.72000e+01,\n",
       "       5.06000e+01, 7.66000e+01, 5.07000e+01, 7.41000e+01, 5.09000e+01,\n",
       "       5.72000e+01, 6.95000e+01, 4.53000e+01, 5.73000e+01, 4.65000e+01,\n",
       "       5.93000e+01, 6.99000e+01, 4.90000e+01, 5.08000e+01, 6.07000e+01,\n",
       "       4.16000e+01, 7.94000e+01, 4.31000e+01, 6.10000e+01, 7.91000e+01,\n",
       "       4.40000e+01, 6.13000e+01, 7.79000e+01, 4.57000e+01, 6.58000e+01,\n",
       "       7.82000e+01, 7.73000e+01, 6.46000e+01, 6.28000e+01, 5.29000e+01,\n",
       "       7.12000e+01, 5.16000e+01, 5.98000e+01, 5.00000e+01, 5.86000e+01,\n",
       "       5.00000e+00, 6.93000e+01, 4.85000e+01, 7.21000e+01, 7.95000e+01,\n",
       "       6.17000e+01, 6.82000e+01, 7.52000e+01, 6.11000e+01, 6.59000e+01,\n",
       "       5.97000e+01, 6.69000e+01, 8.01000e+01, 7.99000e+01, 5.56000e+01,\n",
       "       7.98000e+01, 3.00000e+00, 6.60000e+01, 7.87000e+01, 5.05000e+01,\n",
       "       7.59000e+01, 7.46000e+01, 4.82000e+01, 7.49000e+01, 7.65000e+01,\n",
       "       1.90000e+01, 5.10000e+01, 7.00000e+01, 3.26000e+01, 5.19000e+01,\n",
       "       6.91000e+01, 3.52000e+01, 5.44000e+01, 1.17001e+04, 9.00000e+00,\n",
       "       3.84000e+01, 5.54000e+01, 7.05000e+01, 4.07000e+01, 5.22000e+01,\n",
       "       5.91000e+01, 6.67000e+01, 5.26000e+01, 5.95000e+01, 5.88000e+01,\n",
       "       6.70000e+01, 5.17000e+01, 6.24000e+01, 5.60000e+01, 5.66000e+01,\n",
       "       6.79000e+01, 6.29000e+01, 6.68000e+01, 6.40000e+01, 4.27000e+01,\n",
       "       1.30000e+01, 5.34000e+01, 4.47000e+01, 5.33000e+01, 6.14000e+01,\n",
       "       6.09000e+01, 4.68000e+01, 5.82000e+01, 6.56000e+01, 5.13000e+01,\n",
       "       5.90000e+01, 5.99000e+01, 5.52000e+01, 6.42000e+01, 5.76000e+01,\n",
       "       5.70000e+01, 4.71000e+01, 4.69000e+01, 7.53000e+01, 5.64000e+01,\n",
       "       1.60000e+01, 4.67000e+01, 5.55000e+01, 4.70000e+01, 5.94000e+01,\n",
       "       6.66000e+01, 5.23000e+01, 4.25000e+01, 7.09000e+01, 4.17000e+01,\n",
       "       1.00000e+01, 4.08000e+01, 4.12000e+01, 5.28000e+01, 7.89000e+01,\n",
       "       7.90000e+01, 7.56000e+01, 7.70000e+01, 6.15000e+01, 4.91000e+01,\n",
       "       7.33000e+01, 5.92000e+01, 7.15000e+01, 4.75000e+01, 6.05000e+01,\n",
       "       5.45000e+01, 6.88000e+01, 1.10000e+01, 6.16000e+01, 5.57000e+01,\n",
       "       6.89000e+01, 6.96000e+01, 6.54000e+01, 7.11000e+01, 6.57000e+01,\n",
       "       6.12000e+01, 6.04000e+01, 6.71000e+01, 5.42000e+01, 5.59000e+01,\n",
       "       7.07000e+01, 6.34000e+01, 6.61000e+01, 8.16000e+01, 8.17000e+01,\n",
       "       1.40000e+01, 7.36000e+01, 1.20000e+01, 8.13000e+01, 7.93000e+01,\n",
       "       8.47000e+01, 4.00000e-01, 3.90000e+01, 8.70000e+01, 4.36000e+01,\n",
       "       8.62000e+01, 5.00000e-01, 4.30000e+01, 8.68000e+01, 6.00000e-01,\n",
       "       8.66000e+01, 2.90000e+01, 8.42000e+01, 5.63000e+01, 8.04000e+01,\n",
       "       3.28000e+01, 5.87000e+01, 8.05000e+01, 3.77000e+01, 6.45000e+01,\n",
       "       6.75000e+01, 6.08000e+01, 6.03000e+01, 0.00000e+00, 6.65000e+01,\n",
       "       5.51000e+01, 7.03000e+01, 5.71000e+01, 5.41000e+01, 5.89000e+01,\n",
       "       4.80000e+01, 5.47000e+01, 5.03000e+01, 7.97000e+01, 4.18000e+01,\n",
       "       6.21000e+01, 4.49000e+01, 6.43000e+01, 8.00000e+01, 4.86000e+01,\n",
       "       8.00000e-01, 7.71000e+01, 9.00000e-01, 7.00000e-01, 1.00000e+00,\n",
       "       7.47000e+01, 2.00000e+00, 5.62000e+01, 8.20000e+01, 8.60000e+01,\n",
       "       8.40000e+01, 8.10000e+01, 7.61000e+01, 7.26000e+01, 6.31000e+01,\n",
       "       7.01000e+01, 6.01000e+01, 8.18000e+01, 5.46000e+01, 4.32000e+01,\n",
       "       3.39000e+01, 3.40000e+01, 4.63000e+01, 5.78000e+01, 3.54000e+01,\n",
       "       4.92000e+01, 6.62000e+01, 5.27000e+01, 6.18000e+01, 6.80000e+01,\n",
       "       2.20000e+01, 7.80000e+01, 7.60000e+01, 5.37000e+01, 6.73000e+01,\n",
       "       7.75000e+01, 5.61000e+01, 5.58000e+01, 4.97000e+01, 4.44000e+01,\n",
       "       5.11000e+01, 8.58000e+01, 6.20000e+01, 8.02000e+01, 7.38000e+01,\n",
       "       5.77000e+01, 8.19000e+01, 7.78000e+01, 8.07000e+01, 8.15000e+01,\n",
       "       5.96000e+01, 7.40000e+01, 4.60000e+01, 7.04000e+01, 4.81000e+01,\n",
       "       7.92000e+01, 6.35000e+01, 7.84000e+01, 3.00000e-01, 7.55000e+01,\n",
       "       8.56000e+01, 7.81000e+01, 7.62000e+01, 8.21000e+01, 7.17000e+01,\n",
       "       7.28000e+01, 8.80000e+01, 8.31000e+01, 7.74000e+01, 6.32000e+01,\n",
       "       7.88000e+01, 7.77000e+01, 7.48000e+01, 4.83000e+01, 4.02000e+01,\n",
       "       4.55000e+01, 4.84000e+01, 4.79000e+01, 7.58000e+01, 6.48000e+01,\n",
       "       6.87000e+01, 7.44000e+01, 5.20000e+01, 6.78000e+01, 8.08000e+01,\n",
       "       5.53000e+01, 8.14000e+01, 5.14000e+01, 4.42000e+01, 3.33000e+01,\n",
       "       6.90000e+01, 2.00000e+01, 2.30000e+01, 7.45000e+01, 7.96000e+01,\n",
       "       4.45000e+01, 4.39000e+01, 4.99000e+01, 7.32000e+01, 5.04000e+01,\n",
       "       7.67000e+01, 7.31000e+01, 5.75000e+01, 4.96000e+01, 4.26000e+01,\n",
       "       4.61000e+01, 5.18000e+01, 5.50000e+01, 4.19000e+01, 4.24000e+01,\n",
       "       7.34000e+01, 1.50000e+01, 4.93000e+01, 5.12000e+01, 7.25000e+01,\n",
       "       6.51000e+01, 5.67000e+01, 5.83000e+01, 3.47000e+01, 2.50000e+01,\n",
       "       3.73000e+01, 3.31000e+01, 3.66000e+01, 3.24000e+01, 4.73000e+01,\n",
       "       1.80000e+01, 3.61000e+01, 2.80000e+01, 4.50000e+01, 3.79000e+01,\n",
       "       3.95000e+01, 4.15000e+01, 8.23000e+01, 7.76000e+01, 7.13000e+01,\n",
       "       4.94000e+01, 6.06000e+01, 4.52000e+01, 4.59000e+01, 4.58000e+01,\n",
       "       8.32000e+01, 8.48000e+01, 5.21000e+01, 2.70000e+01, 4.62000e+01,\n",
       "       8.96000e+01, 8.88000e+01, 8.76000e+01, 8.61000e+01, 8.53000e+01,\n",
       "       8.29000e+01, 3.48000e+01, 4.38000e+01, 3.99000e+01, 5.68000e+01,\n",
       "       3.82000e+01, 6.26000e+01, 4.21000e+01, 3.63000e+01, 4.89000e+01,\n",
       "       2.10000e+01, 4.87000e+01, 3.98000e+01, 3.94000e+01, 5.31000e+01,\n",
       "       7.37000e+01, 6.55000e+01, 8.03000e+01, 4.41000e+01, 2.60000e+01,\n",
       "       8.43000e+01, 4.20000e+01, 8.37000e+01, 3.85000e+01, 3.72000e+01,\n",
       "       3.58000e+01, 4.09000e+01, 3.93000e+01, 4.13000e+01, 4.98000e+01,\n",
       "       8.09000e+01, 8.28000e+01, 8.24000e+01, 4.54000e+01, 4.14000e+01,\n",
       "       4.28000e+01, 4.10000e+01, 3.81000e+01, 4.95000e+01, 4.11000e+01,\n",
       "       7.69000e+01, 3.83000e+01, 3.97000e+01, 6.52000e+01, 3.41000e+01,\n",
       "       3.29000e+01, 3.71000e+01, 4.00000e+01, 4.06000e+01, 8.22000e+01,\n",
       "       8.39000e+01, 8.73000e+01, 8.59000e+01, 4.48000e+01, 1.70000e+01,\n",
       "       8.30000e+01, 7.68000e+01, 4.76000e+01, 8.90000e+01, 8.65000e+01,\n",
       "       8.91000e+01, 8.33000e+01, 8.81000e+01, 4.35000e+01, 3.70000e+01,\n",
       "       3.37000e+01, 4.46000e+01, 3.96000e+01, 4.33000e+01, 4.29000e+01,\n",
       "       3.51000e+01, 4.88000e+01, 4.22000e+01, 5.01000e+01, 8.52000e+01,\n",
       "       8.92000e+01, 8.34000e+01, 2.40000e+01, 8.51000e+01, 8.35000e+01,\n",
       "       8.97000e+01, 9.02000e+01, 3.68000e+01, 4.34000e+01, 3.36000e+01,\n",
       "       8.25000e+01, 8.74000e+01, 7.85000e+01, 7.54000e+01, 8.49000e+01,\n",
       "       8.44000e+01, 3.76000e+01, 3.19000e+01, 3.10000e+01, 9.51000e+01,\n",
       "       9.58000e+01, 1.00000e-01, 2.00000e-01, 9.56000e+01, 8.83000e+01,\n",
       "       9.69000e+01, 3.86000e+01, 3.00000e+01, 3.75000e+01, 3.80000e+01,\n",
       "       3.35000e+01, 3.38000e+01, 3.43000e+01, 3.88000e+01, 8.63000e+01,\n",
       "       3.45000e+01, 3.46000e+01, 5.24000e+01, 6.81000e+01, 4.74000e+01,\n",
       "       9.17000e+01, 9.14000e+01, 8.27000e+01, 9.28000e+01, 8.94000e+01,\n",
       "       8.89000e+01])"
      ]
     },
     "execution_count": 137,
     "metadata": {},
     "output_type": "execute_result"
    }
   ],
   "source": [
    "print(df['Value'].unique())\n",
    "df['Value'] = pd.to_numeric(df['Value'], errors='coerce').round(2)\n",
    "df['Value'].unique()"
   ]
  },
  {
   "cell_type": "markdown",
   "metadata": {},
   "source": [
    "#### 7. Remove Outliers in Value\n"
   ]
  },
  {
   "cell_type": "code",
   "execution_count": 138,
   "metadata": {},
   "outputs": [],
   "source": [
    "upper_limit = df['Value'].mean() + 3 * df['Value'].std()\n",
    "df.loc[df['Value'] > upper_limit, 'Value'] = upper_limit\n"
   ]
  },
  {
   "cell_type": "markdown",
   "metadata": {},
   "source": [
    "#### 8. Remove whitespace in Source column"
   ]
  },
  {
   "cell_type": "code",
   "execution_count": 139,
   "metadata": {},
   "outputs": [],
   "source": [
    "df['Source'] = df['Source'].str.strip()\n"
   ]
  },
  {
   "cell_type": "markdown",
   "metadata": {},
   "source": [
    "#### 9. Drop rows with missing Region_Country_Area\n"
   ]
  },
  {
   "cell_type": "code",
   "execution_count": 140,
   "metadata": {},
   "outputs": [],
   "source": [
    "df.dropna(subset=['Region_Country_Area'], inplace=True)\n"
   ]
  },
  {
   "cell_type": "markdown",
   "metadata": {},
   "source": [
    "#### 10. Standardize Footnotes columns values "
   ]
  },
  {
   "cell_type": "code",
   "execution_count": 141,
   "metadata": {},
   "outputs": [],
   "source": [
    "df['Footnotes'] = df['Footnotes'].str.replace('Estimate.', 'Estimated', regex=False)\n"
   ]
  }
 ],
 "metadata": {
  "kernelspec": {
   "display_name": "ASDA",
   "language": "python",
   "name": "python3"
  },
  "language_info": {
   "codemirror_mode": {
    "name": "ipython",
    "version": 3
   },
   "file_extension": ".py",
   "mimetype": "text/x-python",
   "name": "python",
   "nbconvert_exporter": "python",
   "pygments_lexer": "ipython3",
   "version": "3.12.7"
  }
 },
 "nbformat": 4,
 "nbformat_minor": 2
}
